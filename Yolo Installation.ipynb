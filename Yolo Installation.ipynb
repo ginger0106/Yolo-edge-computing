{
 "cells": [
  {
   "cell_type": "markdown",
   "metadata": {},
   "source": [
    "# Detection Using A Pre-Trained Model"
   ]
  },
  {
   "cell_type": "markdown",
   "metadata": {},
   "source": [
    "## Re-complile the Darknet with CUDA and OpenCV."
   ]
  },
  {
   "cell_type": "markdown",
   "metadata": {},
   "source": [
    "According to the [website](https://pjreddie.com/darknet/yolo/), to use the real-time detection for a on demond video, you need to complile the Darknet with CUDA and OpenCV.\n",
    "\n",
    "The OpenCV compilation is very complex, I find some solutions is needed:\n",
    "- [Ubuntu16.04下OpenCV的快速安装和Python下的使用](http://www.th7.cn/system/lin/201705/214368.shtml). When you make OPenCV, you need to degrade the gcc and g++ :4.8, however, you need to upgrade the gcc when you make yolo.\n",
    "  \n",
    "- [ubuntu 16.04 LTS 降级安装gcc 4.8](http://www.cnblogs.com/in4ight/p/6626708.html) \n",
    "- [http://www.cnblogs.com/in4ight/p/6626708.html](http://notes.maxwi.com/2017/03/01/ubuntu-compile-opencv2-with-cuda-and-ffmpeg/)\n",
    "\n"
   ]
  },
  {
   "cell_type": "markdown",
   "metadata": {},
   "source": [
    "### real time detection via on demond video"
   ]
  },
  {
   "cell_type": "markdown",
   "metadata": {},
   "source": [
    "- yolo "
   ]
  },
  {
   "cell_type": "markdown",
   "metadata": {},
   "source": [
    "```\n",
    "./darknet detector demo cfg/coco.data cfg/yolo.cfg yolo.weights videos/8.mkv \n",
    "```"
   ]
  },
  {
   "cell_type": "markdown",
   "metadata": {},
   "source": [
    "- tiny yolo "
   ]
  },
  {
   "cell_type": "markdown",
   "metadata": {},
   "source": [
    "```\n",
    "./darknet detector demo cfg/voc.data cfg/tiny-yolo-voc.cfg tiny-yolo-voc.weights videos/8.mkv -thresh 0.3\n",
    "```"
   ]
  },
  {
   "cell_type": "markdown",
   "metadata": {},
   "source": [
    "### FPS\n",
    "The FPS of yolo2 could reach to about 10, but the FPS of tiny yolo could reach to about 30.\n"
   ]
  },
  {
   "cell_type": "markdown",
   "metadata": {},
   "source": [
    "### experiment environment\n",
    "ubuntu 16.04LTS\n",
    "\n",
    "15.6 GiB memory\n",
    "\n",
    "Intel® Xeon(R) CPU E5-2620 v4 @ 2.10GHz × 16 \n",
    "\n",
    "GeForce GTX 1080 Ti/PCIe/SSE2 *2\n",
    "\n",
    "64-bit"
   ]
  },
  {
   "cell_type": "markdown",
   "metadata": {},
   "source": [
    "ｄａｓｈ是"
   ]
  }
 ],
 "metadata": {
  "kernelspec": {
   "display_name": "python3",
   "language": "python",
   "name": "python3"
  },
  "language_info": {
   "codemirror_mode": {
    "name": "ipython",
    "version": 2
   },
   "file_extension": ".py",
   "mimetype": "text/x-python",
   "name": "python",
   "nbconvert_exporter": "python",
   "pygments_lexer": "ipython2",
   "version": "2.7.12"
  }
 },
 "nbformat": 4,
 "nbformat_minor": 2
}
