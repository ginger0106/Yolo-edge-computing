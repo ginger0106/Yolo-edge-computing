{
 "cells": [
  {
   "cell_type": "markdown",
   "metadata": {},
   "source": [
    "# [BISIC]Ubuntu16.04 Anaconda3 opencv3.4 编译过程 #"
   ]
  },
  {
   "cell_type": "markdown",
   "metadata": {},
   "source": [
    "**引子**\n",
    ">由于之前测试darkflow的时候，显示opencv需要重新编译，缺少GTK+模块，因此需要opencv进行手动编译。\n",
    "```\n",
    "OpenCV Error: Unspecified error (The function is not implemented. Rebuild the library with Windows, GTK+ 2.x or Carbon support. If you are on Ubuntu or Debian, install libgtk2.0-dev and pkg-config, then re-run cmake or configure script) in cvNamedWindow, file /tmp/build/80754af9/opencv_1512687413662/work/modules/highgui/src/window.cpp, line 593\n",
    "```\n",
    "是因为opencv在编译的时候没有支持GTK GUI\n"
   ]
  },
  {
   "cell_type": "markdown",
   "metadata": {},
   "source": [
    "## 环境\n",
    "\n",
    "- Python 3.6.3 |Anaconda custom (64-bit)| (default, Oct 13 2017, 12:02:49) \n",
    "- tensorflow 1.3.0 (/home/heyhao/anaconda3/lib/python3.6/site-packages/tensorflow)\n",
    "- CUDA Version 8.0.61\n",
    "- cuDNN 6\n",
    "- GeForce GTX 1080 Ti\n",
    "- Ubuntu16.04\n"
   ]
  },
  {
   "cell_type": "markdown",
   "metadata": {},
   "source": [
    "## 准备工作\n",
    "\n",
    "1. 安装必备的库：\n",
    "```\n",
    "sudo apt-get install build-essential\n",
    "sudo apt-get install cmake git libgtk2.0-dev pkg-config libavcodec-dev libavformat-dev libswscale-dev\n",
    "```\n",
    "2. 可选包： \n",
    "```\n",
    "sudo apt-get install python-dev python-numpy libtbb2 libtbb-dev libjpeg-dev libpng-dev libtiff-dev libjasper-dev libdc1394-22-dev\n",
    "```\n",
    "3. 其他包：\n",
    "\n",
    "添加对OpenGL的支持所需要的包\n",
    "```\n",
    "sudo apt-get install freeglut3-dev mesa-common-dev  libgtkglext1 libgtkglext1-dev\n",
    "```\n",
    "其他一些推荐包，包括视频编解码所需要的开发包等：\n",
    "```\n",
    "sudo apt-get install checkinstall yasm libgstreamer0.10-dev libgstreamer-plugins-base0.10-dev libv4l-dev libtbb-dev libqt4-dev libgtk2.0-dev libmp3lame-dev libtheora-dev libvorbis-dev libxvidcore-dev x264 v4l-utils\n",
    "```\n",
    "4. 下载opencv3.4 并解压缩\n",
    "````\n",
    "git clone https://github.com/opencv/opencv.git\n",
    "cd ~/opencv\n",
    "mkdir build\n",
    "cd build\n",
    "```\n",
    "5. 下载cmake-gui\n",
    "\n",
    "```\n",
    "sudo apt-get install cmake-qt-gui\n",
    "cmake-gui\n",
    "```"
   ]
  },
  {
   "cell_type": "markdown",
   "metadata": {},
   "source": [
    "# 编译opencv\n",
    "\n",
    "1. cmake 参数\n",
    "\n",
    "利用cmake-gui可以清晰的选择需要的参数，本文当前只列出需要的参数和网上的一些参考：\n",
    "\n",
    "**基本参数**\n",
    "\n",
    "\n",
    "```\n",
    "cmake \\\n",
    "    -D CMAKE_BUILD_TYPE=RELEASE \\\n",
    "    -D CMAKE_INSTALL_PREFIX=/usr/local \\\n",
    "    -D WITH_CUDA=ON \\\n",
    "    -D WITH_CUBLAS=ON \\\n",
    "    -D CUDA_FAST_MATH=ON \\\n",
    "    -D WITH_CUFFT=ON \\\n",
    "    -D WITH_NVCUVID=ON \\\n",
    "    -D WITH_V4L=ON \\\n",
    "    -D WITH_LIBV4L=ON \\\n",
    "    -D WITH_OPENGL=ON \\\n",
    "    -D WITH_FFMPEG=ON \\\n",
    "    -D INSTALL_C_EXAMPLES=ON \\\n",
    "    -D BUILD_EXAMPLES=ON \\\n",
    "    -D WITH_TBB=ON-D BUILD_NEW_PYTHON_SUPPORT=ON \\   \n",
    "    ..\n",
    "\n",
    "\n",
    "-D CMAKE_INSTALL_PREFIX=$(python -c \"import sys; print(sys.prefix)\") \\\n",
    "    -D PYTHON_EXECUTABLE=$(which python) \\\n",
    "    -D PYTHON_INCLUDE_DIR=$(python -c \"from distutils.sysconfig import get_python_inc;   print(get_python_inc())\") \\\n",
    "    -D PYTHON_PACKAGES_PATH=$(python3 -c \"from distutils.sysconfig import get_python_lib; print(get_python_lib())\") \\\n",
    "    \n",
    "```    \n",
    "**python相关参数**\n",
    "\n",
    "因为希望用anaconda python3来build，因此配置为：\n",
    "\n",
    "```\n",
    "PYTHON3_EXECUTABLE = /home/heyhao/anaconda3/bin/python3 \n",
    "#<path to python>#python执行路径\n",
    "\n",
    "PYTHON_INCLUDE_DIR = /home/heyhao/anaconda3/include/python3.6m  #/usr/include/python<version>#python库所在路径\n",
    "\n",
    "PYTHON_LIBRARY = /home/heyhao/anaconda3/lib/libpython3.6m.so.1\n",
    "#/usr/lib/x86_64-linux-gnu/libpython<version>.so #python本身的动态链接文件\n",
    "\n",
    "PYTHON3_NUMPY_INCLUDE_DIRS = /home/heyhao/anaconda3/lib/python3.6/site-packages/numpy/core/include\n",
    "\n",
    "#/usr/lib/python<version>/dist-packages/numpy/core/include/ #NUMPY所在位置\n",
    "\n",
    "```\n",
    "最初的想法是利用anacada里面的python来build　openCV. 但是编译一致出错．此时\n",
    "http://www.linuxfromscratch.org/blfs/view/svn/x/gtk2.html"
   ]
  },
  {
   "cell_type": "markdown",
   "metadata": {},
   "source": []
  },
  {
   "cell_type": "markdown",
   "metadata": {},
   "source": []
  },
  {
   "cell_type": "markdown",
   "metadata": {},
   "source": []
  },
  {
   "cell_type": "markdown",
   "metadata": {},
   "source": []
  },
  {
   "cell_type": "code",
   "execution_count": null,
   "metadata": {
    "collapsed": true
   },
   "outputs": [],
   "source": []
  },
  {
   "cell_type": "markdown",
   "metadata": {},
   "source": [
    "# Reference\n",
    "1. <http://notes.maxwi.com/2017/03/01/ubuntu-compile-opencv2-with-cuda-and-ffmpeg/>\n",
    "\n",
    "2. <http://blog.csdn.net/u011636567/article/details/70229175>\n",
    "3. <https://www.cnblogs.com/lynsyklate/p/7719500.html>"
   ]
  },
  {
   "cell_type": "code",
   "execution_count": null,
   "metadata": {
    "collapsed": true
   },
   "outputs": [],
   "source": []
  }
 ],
 "metadata": {
  "kernelspec": {
   "display_name": "Python 3",
   "language": "python",
   "name": "python3"
  },
  "language_info": {
   "codemirror_mode": {
    "name": "ipython",
    "version": 3
   },
   "file_extension": ".py",
   "mimetype": "text/x-python",
   "name": "python",
   "nbconvert_exporter": "python",
   "pygments_lexer": "ipython3",
   "version": "3.6.3"
  }
 },
 "nbformat": 4,
 "nbformat_minor": 2
}
